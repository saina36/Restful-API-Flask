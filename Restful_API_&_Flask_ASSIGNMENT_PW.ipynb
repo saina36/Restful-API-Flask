{
  "cells": [
    {
      "cell_type": "markdown",
      "metadata": {
        "id": "omzHoETXxna3"
      },
      "source": [
        "#PW ASSIGNMENT\n",
        "##Restful API & Flask"
      ]
    },
    {
      "cell_type": "markdown",
      "metadata": {
        "id": "PuOYcLAIxrMZ"
      },
      "source": [
        "#Theory Questions\n",
        "\n",
        "\n",
        "### **1. What is a RESTful API?**  \n",
        "A RESTful API (Representational State Transfer API) follows REST principles, allowing communication between clients and servers using standard HTTP methods. It treats data as resources, each identified by a URL, and ensures stateless interactions for scalability and simplicity.\n",
        "\n",
        "---\n",
        "\n",
        "### **2. Explain the concept of API specification.**  \n",
        "An API specification defines how an API should behave. It includes details such as:  \n",
        "\n",
        "- **Endpoints** (URLs for accessing resources)  \n",
        "- **Request methods** (GET, POST, PUT, DELETE)  \n",
        "- **Request/Response formats** (JSON, XML)  \n",
        "- **Authentication mechanisms** (API keys, JWT, OAuth)  \n",
        "\n",
        "Popular specifications include **OpenAPI (Swagger)**, which helps document and standardize API behavior.\n",
        "\n",
        "---\n",
        "\n",
        "### **3. What is Flask, and why is it popular for building APIs?**  \n",
        "Flask is a lightweight and flexible Python web framework used for building web applications and APIs.  \n",
        "\n",
        "**Why is Flask popular?**  \n",
        "- **Minimalistic & Lightweight** – Provides only the essentials.  \n",
        "- **Extensible** – Supports plugins like Flask-SQLAlchemy, Flask-RESTful.  \n",
        "- **Simple Routing** – Uses `@app.route()` to define API endpoints.  \n",
        "- **Built-in Debugging** – Comes with an interactive debugger.  \n",
        "\n",
        "---\n",
        "\n",
        "### **4. What is routing in Flask?**  \n",
        "Routing in Flask maps specific URLs (endpoints) to Python functions. It is done using the `@app.route()` decorator.  \n",
        "\n",
        "Example:  \n",
        "```python\n",
        "from flask import Flask\n",
        "\n",
        "app = Flask(__name__)\n",
        "\n",
        "@app.route('/')  \n",
        "def home():\n",
        "    return \"Welcome to Flask!\"\n",
        "```\n",
        "This ensures that when users visit `/`, they see `\"Welcome to Flask!\"`.\n",
        "\n",
        "---\n",
        "\n",
        "### **5. How do you create a simple Flask application?**  \n",
        "A basic Flask app is easy to set up:\n",
        "\n",
        "```python\n",
        "from flask import Flask  \n",
        "\n",
        "app = Flask(__name__)  \n",
        "\n",
        "@app.route('/')  \n",
        "def home():  \n",
        "    return \"Hello, Flask!\"  \n",
        "\n",
        "if __name__ == '__main__':  \n",
        "    app.run(debug=True)  \n",
        "```\n",
        "- `Flask(__name__)` initializes the app.  \n",
        "- `@app.route('/')` defines the homepage.  \n",
        "- `app.run(debug=True)` runs the app with debugging enabled.\n",
        "\n",
        "---\n",
        "\n",
        "### **6. What are HTTP methods used in RESTful APIs?**  \n",
        "Common HTTP methods include:  \n",
        "\n",
        "- **GET** – Retrieve data (e.g., fetching a user profile).  \n",
        "- **POST** – Create new data (e.g., submitting a new post).  \n",
        "- **PUT** – Update existing data (e.g., modifying a user's details).  \n",
        "- **DELETE** – Remove data (e.g., deleting an account).  \n",
        "\n",
        "---\n",
        "\n",
        "### **7. What is the purpose of the @app.route() decorator in Flask?**  \n",
        "The `@app.route()` decorator links a URL to a function.  \n",
        "\n",
        "Example:  \n",
        "```python\n",
        "@app.route('/about')  \n",
        "def about():\n",
        "    return \"About Page\"\n",
        "```\n",
        "When users visit `/about`, Flask calls the `about()` function and returns `\"About Page\"`.\n",
        "\n",
        "---\n",
        "\n",
        "### **8. What is the difference between GET and POST HTTP methods?**  \n",
        "| Method | Purpose | Example |  \n",
        "|--------|---------|---------|  \n",
        "| GET | Retrieve data | `GET /users` (fetch user list) |  \n",
        "| POST | Send data to the server | `POST /users` (create a new user) |  \n",
        "\n",
        "**GET** is used for reading data, while **POST** is used for writing (creating/updating) data.\n",
        "\n",
        "---\n",
        "\n",
        "### **9. How do you handle errors in Flask APIs?**  \n",
        "Use `@app.errorhandler()` to catch and handle errors gracefully.  \n",
        "\n",
        "Example:  \n",
        "```python\n",
        "@app.errorhandler(404)  \n",
        "def not_found(error):  \n",
        "    return {\"error\": \"Not Found\"}, 404  \n",
        "```\n",
        "If a user accesses a nonexistent page, Flask returns a **404 error** with a custom message.\n",
        "\n",
        "---\n",
        "\n",
        "### **10. How do you connect Flask to a SQL database?**  \n",
        "Use **Flask-SQLAlchemy**, an ORM (Object-Relational Mapper), to interact with databases like MySQL, SQLite, and PostgreSQL.  \n",
        "\n",
        "Example:  \n",
        "```python\n",
        "from flask_sqlalchemy import SQLAlchemy  \n",
        "\n",
        "app.config['SQLALCHEMY_DATABASE_URI'] = 'sqlite:///database.db'  \n",
        "db = SQLAlchemy(app)  \n",
        "```\n",
        "\n",
        "---\n",
        "\n",
        "### **11. What is the role of Flask-SQLAlchemy?**  \n",
        "Flask-SQLAlchemy simplifies database operations by:  \n",
        "- Defining database models as Python classes.  \n",
        "- Handling database queries efficiently.  \n",
        "- Preventing SQL injection through ORM techniques.\n",
        "\n",
        "---\n",
        "\n",
        "### **12. What are Flask blueprints, and how are they useful?**  \n",
        "Blueprints help **organize large Flask applications** by grouping related routes.  \n",
        "\n",
        "Example:  \n",
        "```python\n",
        "from flask import Blueprint  \n",
        "\n",
        "user_bp = Blueprint('users', __name__)  \n",
        "\n",
        "@user_bp.route('/profile')  \n",
        "def profile():  \n",
        "    return \"User Profile\"  \n",
        "```\n",
        "Instead of defining all routes in one file, blueprints allow modular app design.\n",
        "\n",
        "---\n",
        "\n",
        "### **13. What is the purpose of Flask's request object?**  \n",
        "The `request` object gives access to **incoming data**, such as:  \n",
        "- **JSON data** → `request.json`  \n",
        "- **Form data** → `request.form`  \n",
        "- **Headers** → `request.headers`  \n",
        "\n",
        "Example:  \n",
        "```python\n",
        "from flask import request  \n",
        "\n",
        "@app.route('/submit', methods=['POST'])  \n",
        "def submit():  \n",
        "    data = request.json  \n",
        "    return jsonify(data)  \n",
        "```\n",
        "\n",
        "---\n",
        "\n",
        "### **14. How do you create a RESTful API endpoint using Flask?**  \n",
        "Example of a simple API:  \n",
        "```python\n",
        "from flask import Flask, jsonify  \n",
        "\n",
        "app = Flask(__name__)  \n",
        "\n",
        "@app.route('/api/data', methods=['GET'])  \n",
        "def get_data():  \n",
        "    return jsonify({\"message\": \"Hello, API!\"})  \n",
        "\n",
        "if __name__ == '__main__':  \n",
        "    app.run(debug=True)  \n",
        "```\n",
        "This API returns a JSON response when `/api/data` is accessed.\n",
        "\n",
        "---\n",
        "\n",
        "### **15. What is the purpose of Flask's jsonify() function?**  \n",
        "`jsonify()` converts **Python dictionaries** into JSON format for API responses.  \n",
        "\n",
        "Example:  \n",
        "```python\n",
        "return jsonify({\"status\": \"success\", \"data\": user_data})\n",
        "```\n",
        "\n",
        "---\n",
        "\n",
        "### **16. Explain Flask’s url_for() function.**  \n",
        "`url_for()` generates dynamic URLs for routes.  \n",
        "\n",
        "Example:  \n",
        "```python\n",
        "url_for('home')  # Returns the URL for the home function\n",
        "```\n",
        "\n",
        "---\n",
        "\n",
        "### **17. How does Flask handle static files (CSS, JavaScript, etc.)?**  \n",
        "Static files are stored in the `static/` directory.  \n",
        "\n",
        "Example:  \n",
        "```html\n",
        "<link rel=\"stylesheet\" href=\"{{ url_for('static', filename='style.css') }}\">\n",
        "```\n",
        "\n",
        "---\n",
        "\n",
        "### **18. What are HTTP status codes, and why are they important in a Flask API?**  \n",
        "HTTP status codes indicate response status:  \n",
        "\n",
        "- **200 OK** – Success  \n",
        "- **400 Bad Request** – Client-side error  \n",
        "- **404 Not Found** – Resource not available  \n",
        "- **500 Internal Server Error** – Server-side failure  \n",
        "\n",
        "---\n",
        "\n",
        "### **19. How do you handle POST requests in Flask?**  \n",
        "Example:  \n",
        "```python\n",
        "@app.route('/submit', methods=['POST'])  \n",
        "def submit():  \n",
        "    data = request.json  \n",
        "    return jsonify(data)  \n",
        "```\n",
        "This API accepts JSON data and returns it.\n",
        "\n",
        "---\n",
        "\n",
        "### **20. How would you secure a Flask API?**  \n",
        "- Use **JWT authentication**.  \n",
        "- Implement **rate limiting**.  \n",
        "- Enforce **HTTPS** for secure communication.\n",
        "\n",
        "---\n",
        "\n",
        "### **21. What is the significance of the Flask-RESTful extension?**  \n",
        "It simplifies API development by providing **class-based resource handling**.  \n",
        "\n",
        "Example:  \n",
        "```python\n",
        "from flask_restful import Resource  \n",
        "\n",
        "class Hello(Resource):  \n",
        "    def get(self):  \n",
        "        return {\"message\": \"Hello, Flask-RESTful!\"}  \n",
        "```\n",
        "\n",
        "---\n",
        "\n",
        "### **22. What is the role of Flask’s session object?**  \n",
        "The `session` object **stores user data** across requests securely.  \n",
        "\n",
        "Example:  \n",
        "```python\n",
        "from flask import session  \n",
        "\n",
        "session['user'] = 'John Doe'\n",
        "```\n",
        "---\n",
        "### **23. Explain Flask’s url_for() function**\n",
        "The url_for() function dynamically generates URLs for Flask routes based on function names instead of hardcoding them. This helps maintainable and flexible code.\n",
        "\n"
      ]
    },
    {
      "cell_type": "code",
      "execution_count": null,
      "metadata": {
        "id": "ePAQvUT1iA3p"
      },
      "outputs": [],
      "source": [
        "# 1.How do you create a basic Flask application ?\n",
        "\n",
        "from flask import Flask\n",
        "app = Flask(__name__)\n",
        "\n",
        "@app.route('/')\n",
        "def home():\n",
        "    return \"Welcome to Flask!\"\n",
        "\n",
        "if __name__ == '__main__':\n",
        "    app.run(debug=True)"
      ]
    },
    {
      "cell_type": "code",
      "execution_count": null,
      "metadata": {
        "id": "TaIMppskyl8Q"
      },
      "outputs": [],
      "source": [
        "#How do you serve static files like images or CSS in Flask ?\n",
        "<!DOCTYPE html>\n",
        "<html>\n",
        "<head>\n",
        "    <title>My Flask App</title>\n",
        "    <link rel=\"stylesheet\" href=\"{{ url_for('static', filename='css/style.css') }}\">\n",
        "</head>\n",
        "<body>\n",
        "    <h1>Welcome to Flask!</h1>\n",
        "    <img src=\"{{ url_for('static', filename='images/logo.png') }}\" alt=\"Logo\">\n",
        "</body>\n",
        "</html>"
      ]
    },
    {
      "cell_type": "code",
      "execution_count": null,
      "metadata": {
        "id": "RpCideqlz3bq"
      },
      "outputs": [],
      "source": [
        "#3.How do you define different routes with different HTTP methods in Flask ?\n",
        "\n",
        "from flask import Flask, request\n",
        "\n",
        "app = Flask(__name__)  # Ensure app is defined\n",
        "\n",
        "@app.route('/submit', methods=['GET', 'POST'])\n",
        "def submit():\n",
        "    if request.method == 'POST':\n",
        "        return \"Handling POST request\"\n",
        "    return \"Handling GET request\"\n",
        "\n",
        "if __name__ == '__main__':\n",
        "    app.run(debug=True)\n",
        "\n"
      ]
    },
    {
      "cell_type": "code",
      "execution_count": null,
      "metadata": {
        "id": "Grmjhc020zIg"
      },
      "outputs": [],
      "source": [
        "#4.How do you render HTML templates in Flask ?\n",
        "from flask import render_template\n",
        "\n",
        "@app.route('/')\n",
        "def home():\n",
        "    return render_template('index.html')\n"
      ]
    },
    {
      "cell_type": "code",
      "source": [
        "#5.How can you generate URLs for routes in Flask using url_for ?\n",
        "from flask import url_for\n",
        "\n",
        "@app.route('/profile/<username>')\n",
        "def profile(username):\n",
        "    return f\"Profile page of {username}\"\n",
        "\n",
        "# Generate URL\n",
        "print(url_for('profile', username='John'))\n"
      ],
      "metadata": {
        "id": "O5RLjNbECNPS"
      },
      "execution_count": null,
      "outputs": []
    },
    {
      "cell_type": "code",
      "source": [
        "#6.How do you handle forms in Flask ?\n",
        "from flask import request\n",
        "\n",
        "@app.route('/form', methods=['POST'])\n",
        "def handle_form():\n",
        "    name = request.form['name']\n",
        "    return f\"Hello, {name}!\"\n"
      ],
      "metadata": {
        "id": "ytnvkbNjCmJ8"
      },
      "execution_count": null,
      "outputs": []
    },
    {
      "cell_type": "code",
      "source": [
        "#7.How can you validate form data in Flask ?\n",
        "from flask_wtf import FlaskForm\n",
        "from wtforms import StringField, validators\n",
        "\n",
        "class MyForm(FlaskForm):\n",
        "    name = StringField('Name', [validators.DataRequired()])\n",
        "\n"
      ],
      "metadata": {
        "id": "4WaXq-GMC2FF"
      },
      "execution_count": null,
      "outputs": []
    },
    {
      "cell_type": "code",
      "source": [
        "#8.How do you manage sessions in Flask ?\n",
        "from flask import session\n",
        "\n",
        "app.secret_key = 'your_secret_key'\n",
        "\n",
        "@app.route('/set_session')\n",
        "def set_session():\n",
        "    session['username'] = 'JohnDoe'\n",
        "    return \"Session set!\"\n",
        "\n",
        "@app.route('/get_session')\n",
        "def get_session():\n",
        "    return session.get('username', 'No session set')\n"
      ],
      "metadata": {
        "id": "awo1nFFCC0Xt"
      },
      "execution_count": null,
      "outputs": []
    },
    {
      "cell_type": "code",
      "source": [
        "#9. How do you redirect to a different route in Flask ?\n",
        "from flask import redirect\n",
        "\n",
        "@app.route('/go-home')\n",
        "def go_home():\n",
        "    return redirect(url_for('home'))\n"
      ],
      "metadata": {
        "id": "YwzMsaSFDMLg"
      },
      "execution_count": null,
      "outputs": []
    },
    {
      "cell_type": "code",
      "source": [
        "#10.How do you handle errors in Flask (e.g., 404) ?\n",
        "@app.errorhandler(404)\n",
        "def page_not_found(e):\n",
        "    return \"Page not found\", 404\n",
        "\n"
      ],
      "metadata": {
        "id": "pJPTFcMoDWa0"
      },
      "execution_count": null,
      "outputs": []
    },
    {
      "cell_type": "code",
      "source": [
        "#11.How do you structure a Flask app using Blueprints ?\n",
        "from flask import Blueprint\n",
        "\n",
        "bp = Blueprint('admin', __name__, url_prefix='/admin')\n",
        "\n",
        "@bp.route('/')\n",
        "def admin_home():\n",
        "    return \"Admin Panel\"\n",
        "\n",
        "app.register_blueprint(bp)\n"
      ],
      "metadata": {
        "id": "zPR1YSmWDfEP"
      },
      "execution_count": null,
      "outputs": []
    },
    {
      "cell_type": "code",
      "source": [
        "#12.How do you define a custom Jinja filter in Flask ?\n",
        "@app.template_filter('reverse')\n",
        "def reverse_filter(s):\n",
        "    return s[::-1]\n",
        "\n",
        "# Use in template: {{ \"hello\" | reverse }}\n",
        "\n"
      ],
      "metadata": {
        "id": "5a0fDmUuDmYD"
      },
      "execution_count": null,
      "outputs": []
    },
    {
      "cell_type": "code",
      "source": [
        "#13.How can you redirect with query parameters in Flask ?\n",
        "@app.route('/redirect-with-query')\n",
        "def redirect_with_query():\n",
        "    return redirect(url_for('home', message='Hello'))\n",
        "\n"
      ],
      "metadata": {
        "id": "lFEGoLukDyjA"
      },
      "execution_count": null,
      "outputs": []
    },
    {
      "cell_type": "code",
      "source": [
        "#14.How do you return JSON responses in Flask ?\n",
        "from flask import jsonify\n",
        "\n",
        "@app.route('/api/data')\n",
        "def api_data():\n",
        "    return jsonify({\"name\": \"Alice\", \"age\": 25})\n"
      ],
      "metadata": {
        "id": "R1soCc1bEDHy"
      },
      "execution_count": null,
      "outputs": []
    },
    {
      "cell_type": "code",
      "source": [
        "#15.How do you capture URL parameters in Flask ?\n",
        "@app.route('/user/<int:user_id>')\n",
        "def user_profile(user_id):\n",
        "    return f\"User ID: {user_id}\"\n"
      ],
      "metadata": {
        "id": "qvB-s_OwEMIA"
      },
      "execution_count": null,
      "outputs": []
    },
    {
      "cell_type": "markdown",
      "source": [
        "#THANK YOU"
      ],
      "metadata": {
        "id": "Zyj_MM2UYmQ5"
      }
    },
    {
      "cell_type": "code",
      "source": [],
      "metadata": {
        "id": "Vn0QRJshEfCU"
      },
      "execution_count": null,
      "outputs": []
    }
  ],
  "metadata": {
    "colab": {
      "provenance": []
    },
    "kernelspec": {
      "display_name": "Python 3",
      "name": "python3"
    },
    "language_info": {
      "name": "python"
    }
  },
  "nbformat": 4,
  "nbformat_minor": 0
}